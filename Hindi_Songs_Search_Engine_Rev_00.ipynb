{
  "nbformat": 4,
  "nbformat_minor": 0,
  "metadata": {
    "colab": {
      "name": "Hindi_Songs_Search_Engine_Rev.00",
      "provenance": [],
      "collapsed_sections": []
    },
    "kernelspec": {
      "name": "python3",
      "display_name": "Python 3"
    }
  },
  "cells": [
    {
      "cell_type": "code",
      "metadata": {
        "id": "NnnqLST8pJL9",
        "colab_type": "code",
        "colab": {}
      },
      "source": [
        ""
      ],
      "execution_count": null,
      "outputs": []
    },
    {
      "cell_type": "code",
      "metadata": {
        "id": "CeLMDMrNpPwk",
        "colab_type": "code",
        "colab": {}
      },
      "source": [
        "\n",
        "#Loading required libraries.\n",
        "import pandas as pd\n",
        "import numpy as np\n",
        "import re\n",
        "import string\n",
        "from pprint import pprint\n",
        "from collections import Counter\n",
        "import keras\n",
        "import os\n",
        "import json\n",
        "import sklearn\n",
        "import matplotlib.pyplot as plt\n",
        "\n",
        "from sklearn.feature_extraction.text import TfidfVectorizer\n",
        "from sklearn.metrics.pairwise import cosine_similarity\n",
        "from sklearn.feature_extraction.text import CountVectorizer\n",
        "from sklearn.feature_extraction.text import TfidfTransformer\n",
        "\n",
        "from keras.layers import Embedding\n",
        "import tensorflow as tf\n",
        "\n",
        "from keras.datasets import imdb\n",
        "from keras import preprocessing\n",
        "from keras.preprocessing.text import Tokenizer\n",
        "from keras.preprocessing.sequence import pad_sequences\n",
        "from keras.models import Sequential\n",
        "from keras import regularizers\n",
        "from keras.layers import Embedding, Flatten, Dense, Dropout, Activation, RepeatVector\n",
        "from keras.optimizers import RMSprop\n",
        "from keras.layers import LSTM\n",
        "\n"
      ],
      "execution_count": 2,
      "outputs": []
    },
    {
      "cell_type": "code",
      "metadata": {
        "id": "OePsutidpQFd",
        "colab_type": "code",
        "colab": {
          "base_uri": "https://localhost:8080/",
          "height": 54
        },
        "outputId": "706d8cb7-2e66-4232-e327-ae68e559da43"
      },
      "source": [
        "\n",
        "'''\n",
        "#Path for the directory.\n",
        "glove_dir = '/content/drive/My Drive/Colab_Datasets/Hindi_Songs_Lyrics'\n",
        "embeddings_index = {}\n",
        "\n",
        "#opening the file with pretrained words.\n",
        "f = open(os.path.join(glove_dir, 'lyrics.json'))\n",
        "lyrics_data_dict = json.load(f)\n",
        "meta_data = pd.read_csv('/content/drive/My Drive/Colab_Datasets/Hindi_Songs_Lyrics/combined.csv')\n",
        "lyrics_data_pddf = pd.read_csv('/content/drive/My Drive/Colab_Datasets/Hindi_Songs_Lyrics/lyrics.csv')\n",
        "'''\n",
        "'''\n",
        "#Writing a text file for song vocab.\n",
        "keys = list(lyrics_data_dict.keys())\n",
        "\n",
        "temp = ''\n",
        "for i in keys:\n",
        "  temp = temp + ' ' + lyrics_data_dict[i]\n",
        "\n",
        "text_file = open(r\"/content/drive/My Drive/Colab_Datasets/Hindi_Songs_Lyrics/hindi_song_vocab.txt\", \"w+\")\n",
        "text_file.write(temp)\n",
        "text_file.close()\n",
        "'''\n",
        "\n"
      ],
      "execution_count": null,
      "outputs": [
        {
          "output_type": "execute_result",
          "data": {
            "application/vnd.google.colaboratory.intrinsic+json": {
              "type": "string"
            },
            "text/plain": [
              "'\\n#Writing a text file for song vocab.\\nkeys = list(lyrics_data_dict.keys())\\n\\ntemp = \\'\\'\\nfor i in keys:\\n  temp = temp + \\' \\' + lyrics_data_dict[i]\\n\\ntext_file = open(r\"/content/drive/My Drive/Colab_Datasets/Hindi_Songs_Lyrics/hindi_song_vocab.txt\", \"w+\")\\ntext_file.write(temp)\\ntext_file.close()\\n'"
            ]
          },
          "metadata": {
            "tags": []
          },
          "execution_count": 2
        }
      ]
    },
    {
      "cell_type": "code",
      "metadata": {
        "id": "c6VCdZKWPfrE",
        "colab_type": "code",
        "colab": {}
      },
      "source": [
        "\n",
        "lyrics_data = pd.read_csv('/content/drive/My Drive/Colab_Datasets/Hindi_Songs_Lyrics/Scrapped_Hindi_Songs.csv')\n"
      ],
      "execution_count": 3,
      "outputs": []
    },
    {
      "cell_type": "code",
      "metadata": {
        "id": "2CUDGLTq3q6L",
        "colab_type": "code",
        "colab": {}
      },
      "source": [
        "\n",
        "#Function for creating a list ofstrings from the input. It creates different elements in the list if there is a space.\n",
        "#Basically, a sentence will be converted into a list of words.\n",
        "def words(text): return re.findall(r'\\w+', text.lower())\n",
        "\n",
        "#Reading the file with vocabulary.\n",
        "WORDS = Counter(words(open('/content/drive/My Drive/Colab_Datasets/Hindi_Songs_Lyrics/hindi_song_vocab.txt').read()))\n",
        "\n",
        "#Function for calculating probability of the given word to find in the vocabulary.\n",
        "def P(word, N = sum(WORDS.values())): \n",
        "    \"Probability of `word`.\"\n",
        "    #WORDS[word] gives the count of word\n",
        "    #N is total number of words in the vocabulary.\n",
        "    return WORDS[word] / N\n",
        "\n",
        "#Main function which should be called for word correction.\n",
        "def correction(word): \n",
        "    \"Most probable spelling correction for word.\"\n",
        "    return max(candidates(word), key = P)\n",
        "\n",
        "#Function for genetraing all possible real words from given string.\n",
        "def candidates(word): \n",
        "    \"Generate possible spelling corrections for word.\"\n",
        "    return (known([word]) or known(edits1(word)) or known(edits2(word)) or [word])\n",
        "\n",
        "def known(words): \n",
        "    \"The subset of `words` that appear in the dictionary of WORDS.\"\n",
        "    return set(w for w in words if w in WORDS)\n",
        "\n",
        "#Function for editing given string. This returns words which are one edit away from input string.\n",
        "#The function edits1 returns a set of all the edited strings (whether words or not) that can be made with one simple edit: \n",
        "#a simple edit to a word is a deletion (remove one letter), a transposition (swap two adjacent letters), a replacement (change one letter to another) or an insertion (add a letter).\n",
        "#The output of this function can be a big set. For a word of length n, there will be n deletions, n-1 transpositions, \n",
        "#26n alterations, and 26(n+1) insertions, for a total of 54n+25 (of which a few are typically duplicates)\n",
        "def edits1(word):\n",
        "    \"All edits that are one edit away from `word`.\"\n",
        "    letters    = 'abcdefghijklmnopqrstuvwxyz'\n",
        "    #Splitting the letters of a word to form a combination.\n",
        "    splits     = [(word[:i], word[i:])    for i in range(len(word) + 1)]\n",
        "    deletes    = [L + R[1:]               for L, R in splits if R]\n",
        "    transposes = [L + R[1] + R[0] + R[2:] for L, R in splits if len(R)>1]\n",
        "    replaces   = [L + c + R[1:]           for L, R in splits if R for c in letters]\n",
        "    inserts    = [L + c + R               for L, R in splits for c in letters]\n",
        "    return set(deletes + transposes + replaces + inserts)\n",
        "\n",
        "#Function for generating set of words which are two edits away from input string.\n",
        "def edits2(word): \n",
        "    \"All edits that are two edits away from `word`.\"\n",
        "    return (e2 for e1 in edits1(word) for e2 in edits1(e1))\n"
      ],
      "execution_count": 4,
      "outputs": []
    },
    {
      "cell_type": "code",
      "metadata": {
        "id": "Q_fsTBhhpQIg",
        "colab_type": "code",
        "colab": {}
      },
      "source": [
        "\n",
        "#Function for vectorization of words using bag of words.\n",
        "def bow_extractor(dataframe, variable_name, ngram_range = (1,3)):\n",
        "  data = []\n",
        "  data_raw = list(dataframe.loc[:, variable_name])\n",
        "  for i in data_raw:\n",
        "    song_data = i.lower()\n",
        "    data.append(song_data)\n",
        "  vectorizer = CountVectorizer(min_df = 1, ngram_range = ngram_range)\n",
        "  features = vectorizer.fit_transform(data)\n",
        "  return vectorizer, features\n",
        "\n",
        "\n",
        "#Function for creating TFIDF matrix.\n",
        "def tfidf_transformer(bow_matrix):\n",
        "  transformer = TfidfTransformer(norm = 'l2', smooth_idf = True, use_idf = True)\n",
        "  tfidf_matrix = transformer.fit_transform(bow_matrix)\n",
        "  return transformer, tfidf_matrix\n",
        "\n",
        "\n",
        "#Function for vectorizing and transforming query into TFIDF smatrix.\n",
        "def query_vectorization(query, vectorizer, transformer):\n",
        "  query_features = vectorizer.transform([query])\n",
        "  query_tfidf = transformer.transform(query_features)\n",
        "  return query_tfidf, query_features\n",
        "\n",
        "\n",
        "#Function for creating similarity matrix.\n",
        "def cos_similarity(search_query_weights, tfidf_weights_matrix):\t\n",
        "  #Calculating cosine distance between documents and query.\n",
        "\tcosine_distance = cosine_similarity(search_query_weights, tfidf_weights_matrix)\n",
        "\tsimilarity_list = cosine_distance[0]  \n",
        "\treturn similarity_list\n",
        "\n",
        "\n",
        "#Function for suggesting most similar documents.\n",
        "def most_similar(similarity_list, min_talks = 1):\n",
        "\tmost_similar= []\n",
        "\twhile min_talks > 0:\n",
        "\t\ttmp_index = np.argmax(similarity_list)\n",
        "\t\tmost_similar.append(tmp_index)\n",
        "\t\tsimilarity_list[tmp_index] = 0\n",
        "\t\tmin_talks -= 1\n",
        "\treturn most_similar\n",
        "\n",
        "\n",
        "#Vectorizing all songs from dataset.\n",
        "bow_vectorizer, bow_features = bow_extractor(lyrics_data, 'Lyrics')\n",
        "transformer, tfidf_matrix = tfidf_transformer(bow_features)\n",
        "\n",
        "\n",
        "#Function for searching.\n",
        "def search_song(query, number_of_results = 1):\n",
        "  #Correcting the query words to nearest correct word from local vocab.\n",
        "  query = correction(query)\n",
        "  #Vectorizing the query.\n",
        "  query_tfidf, query_features = query_vectorization(query, bow_vectorizer, transformer)\n",
        "  #List of similarity with all songs.\n",
        "  similarity_list = cos_similarity(query_tfidf, tfidf_matrix)\n",
        "  #Result of top matching songs.\n",
        "  sim_songs = most_similar(similarity_list, min_talks = number_of_results)\n",
        "  #Printing all the results.\n",
        "  for i in sim_songs:\n",
        "    #print('\\n', \"Song: \", meta_data['Song Name'][i])\n",
        "    #print(\"Lyricist: \", meta_data['Lyricists_1'][i])\n",
        "    #print(\"Music Director: \", meta_data['Music_Director_1'])[i]\n",
        "    #print(\"Singer: \", meta_data['Singer_1'][i])\n",
        "    print('\\n', \"Lyrics: \", lyrics_data['Lyrics'][i])\n",
        "    print(\"-----------------------------------------------------------------------------------------\", '\\n')\n",
        "\n",
        "\n",
        "\n"
      ],
      "execution_count": 8,
      "outputs": []
    },
    {
      "cell_type": "code",
      "metadata": {
        "id": "MFwe3vA_pQui",
        "colab_type": "code",
        "colab": {
          "base_uri": "https://localhost:8080/",
          "height": 1000
        },
        "outputId": "0883e24a-aa93-4257-aba1-22cd7174d431"
      },
      "source": [
        "\n",
        "#query = 'nOdha Jo Tune Mujhko\\nSaans Laut Aayi\\nChandni Ne Tan Pe Mere\\nChaadar Bhichayee\\nOdha Jo Tune Mujhko\\nSaans Laut Aayi'\n",
        "#query = 'ki inakaa aashiq, mein ban gayaa hoon'\n",
        "#query = 'Dil ki diwali hai ishq'\n",
        "search_song(query = 'tumse pyar hua pehli baar hua', number_of_results = 5)\n"
      ],
      "execution_count": 11,
      "outputs": [
        {
          "output_type": "stream",
          "text": [
            "\n",
            " Lyrics:  <font face=\"verdana\">\n",
            "\n",
            " Anhai mein chhupke sabse\n",
            " Soch raha hoon jaane kabse\n",
            " Tanhai mein chhupke sabse\n",
            " Soch raha hoon jaane kabse\n",
            " Tees uthee dil mein jo tumse pyar hua\n",
            " Kyun tumse pyar hua\n",
            " Dard mere dil ka yeh pehli baar hua\n",
            " Kyun tumse pyar hua\n",
            " \n",
            " Betaabi mein dil pagal hai\n",
            " Hun iss uljhan ka \n",
            " Tu hi haal hai\n",
            " Haye dekh jiya na\n",
            " Jaye hum se dilsamb lega\n",
            " Tere karam se\n",
            " Tees uthee dil mein\n",
            " Jo tumse pyar hua\n",
            " Kyun tumse pyar hua a \n",
            " Dard mere dil ka\n",
            " Yeh pehli baar hua\n",
            " Kyun tumse pyar hua a \n",
            " \n",
            " Tera rasta kyun takte hain\n",
            " Kya kuch tere hum lagte hai\n",
            " Haye dekhoon tujhe\n",
            " Main kiss hak se\n",
            " Soch ke dil yeh\n",
            " Dhadke dhak se\n",
            " Tees uthee dil mein\n",
            " Jo tumse pyar hua\n",
            " Kyun tumse pyar hua\n",
            " Dard mere dil ka\n",
            " Yeh pehli baar hua\n",
            " Kyun tumse pyar hua - 3\n",
            "</font>\n",
            "----------------------------------------------------------------------------------------- \n",
            "\n",
            "\n",
            " Lyrics:  <font face=\"verdana\">\n",
            "\n",
            " (Yun tera muskurana aur aake chale jaana - 2\n",
            " Kismat ka hai khul jaana\n",
            " Tera deedar hua pehla sa pyaar hua\n",
            " Pehli hi baar hua iss dil ko\n",
            " Naa toh inkaar hua naa hi iqraar hua\n",
            " Jaane kya yaar hua iss dil ko) - 2\n",
            " \n",
            " (Tujhse mila toh jaagi duaayein\n",
            " Aur nazar ne sajda kiya\n",
            " Jannat zameen pe aayi utar ke\n",
            " Khushiyon ne jaise chun sa liya) - 2\n",
            " Har manjar dilnasheen hai aha\n",
            " Tu hi tu har kahin hai aha\n",
            " Oh teri yeh rajaayein toh hai saari qatilana\n",
            " Tera deedar hua pehla sa pyaar hua\n",
            " Pehli hi baar hua iss dil ko\n",
            " Naa toh inkaar hua naa hi iqraar hua\n",
            " Jaane kya yaar hua iss dil ko\n",
            " \n",
            " Tere bina main tanha tha har pal\n",
            " Honthon pe har dum thi tishnagi\n",
            " Maqsad nahi tha sapne nahi thay\n",
            " Thi zindagi mein aawargi\n",
            " Tu mera rehnuma hai aha\n",
            " Manjil hai raasta hai aha\n",
            " O mere liye tu toh jaise rab ka hai nazrana\n",
            " Tera deedar hua pehla sa pyaar hua\n",
            " Pehli hi baar hua iss dil ko\n",
            " Naa toh inkaar hua naa hi iqraar hua\n",
            " Jaane kya yaar hua iss dil ko\n",
            " \n",
            " Yun tera muskurana aur aake chale jaana - 2\n",
            " Kismat ka hai khul jaana\n",
            " Tera deedar hua pehla sa pyaar hua\n",
            " Pehli hi baar hua iss dil ko\n",
            " Naa toh inkaar hua naa hi iqraar hua\n",
            " Jaane kya yaar hua iss dil ko\n",
            "</font>\n",
            "----------------------------------------------------------------------------------------- \n",
            "\n",
            "\n",
            " Lyrics:  <font face=\"verdana\">\n",
            "\n",
            " (Mil hi gai sajan tum mil hi gaye\n",
            " Chaman dekho khil hu gaye\n",
            " Balam tum mil hi gaye) - (2)\n",
            " \n",
            " (Aankhe maine kholi to\n",
            " Aankho me shamai tu\n",
            " Jabse tumse pyar hua\n",
            " Meri jan mujhe jine ka bahana mil gaya) - (2)\n",
            " Mil hi gai sajan tum mil hi gaye\n",
            " Chaman dekho khil hu gaye\n",
            " Balam tum mil hi gaye\n",
            " \n",
            " Kitne din se tu mujhse lipatne ko\n",
            " Tujhse samaane ko tarsa hu meri ja\n",
            " Kitne din se machal hai mera dil\n",
            " Tere hi sapno me khoya hai mera dil\n",
            " Dilbar mere ho tum jiwan bhi hai tumhara\n",
            " Pyar mere aayi re jawani teri meharbani\n",
            " Aankhe maine kholi to aankho me samai tu\n",
            " Jabse tumse pyar hua \n",
            " Meri jan mujhe jine ka bahana mil gaya\n",
            " Aankhe maine kholi to aankho me samaya tu\n",
            " Jabse tumse pyar hua \n",
            " Meri jan mujhe jine ka bahana mil gaya\n",
            "</font>\n",
            "----------------------------------------------------------------------------------------- \n",
            "\n",
            "\n",
            " Lyrics:  <font face=\"verdana\">\n",
            "\n",
            " Kya hua kuch pata na chala\n",
            " Kahi pyar to nahi ho gaya\n",
            " Yu hua ke hame tum mile\n",
            " Yu hua ke hame kuch hua\n",
            " Kya hua kuch pata na chala\n",
            " Kahi pyar to nahi ho gaya\n",
            " Yu hua ke hame tum dikhe\n",
            " Yu hua ke hame kuch hua\n",
            " Kya hua kuch pata na chala\n",
            " Kahi pyar to nahi ho gaya\n",
            " Yu hua ke hame tum mile\n",
            " \n",
            " Yu hua ek din rah me\n",
            " Yu hua yuhi takra gaye\n",
            " Yu hua hamko aayi hasi\n",
            " Yu hua tum bhi sharma gaye\n",
            " Yu hua ke nigahe mili\n",
            " Yu hua dil dhadkane laga\n",
            " Kya hua kuch pata na chala\n",
            " Kahi pyar to nahi ho gaya\n",
            " Yu hua ke hame tum mile\n",
            " \n",
            " Yu hua tum chale to gaye\n",
            " Yu hua ham wahi rah gaye\n",
            " Yu hua tumne kuch na kaha\n",
            " Yu hua fir bhi sab kah gaye\n",
            " Yu hua yad aane lage\n",
            " Yu hua nind udne lagi\n",
            " Kya hua kuch pata na chala\n",
            " Kahi pyar to nahi ho gaya\n",
            " Yu hua ke hame tum dikhe\n",
            " \n",
            " Yu hua bekrari badhi\n",
            " Yu hua ham dobara mile\n",
            " Yu hua hum karib aa gaye\n",
            " Yu hua chal pade silsile\n",
            " Yu hua ke shama ab naya\n",
            " Yu hua ke najar jhuk gayi\n",
            " Kya hua kuch pata na chala\n",
            " Kahi pyar to nahi ho gaya\n",
            "</font>\n",
            "----------------------------------------------------------------------------------------- \n",
            "\n",
            "\n",
            " Lyrics:  <font face=\"verdana\">\n",
            "\n",
            " Baby i can si the sun rising in your eyes\n",
            " Baby everytime i think of you you make me smile\n",
            " Baby i' ll be your every dream and you should know\n",
            " Baby i' ll never ever wanna let you go\n",
            " Baby\n",
            " \n",
            " (Zindagi ki nindhon ki subah ishq hai.. baby\n",
            " Badi khubsurat si saza ishq hai..\n",
            " Humko pyar hua hai puri huai dua - 2) - 2\n",
            " Chal chal kahin udke hum chal kahin\n",
            " Aasma ishq hai khwaishon sa khula hai\n",
            " Mujhko chu gaya ek ehsaas anchhua\n",
            " Jaise koi nasha aasma mein ghula hai\n",
            " Pyar hua humko pyar hua puri hua dua\n",
            " Humko pyar hua hai puri huai dua - 2\n",
            " Baby i can si the sun rising in your eyes\n",
            " Baby everytime i think of you you make me smile\n",
            " Baby i' ll be your every dream and you should know\n",
            " Baby i' ll never ever wanna let you go\n",
            " Khawaabon mein kabhi maine socha tha nahin\n",
            " Chahaton ka khuda mujhko etne yun dega\n",
            " Befikar chala apni yeh dagar chala\n",
            " Kya pata tha ke dil teri khaatir rukega\n",
            " Pyar hua humko pyar hua puri huai dua\n",
            " Humko pyar hua hai puri huai dua - 2\n",
            " \n",
            " Kahe mujhse ye mara ye rasta hai\n",
            " Kyun na jara sa tu bhatakatha hai\n",
            " Ab to hai nayab ye safar\n",
            " Jara kaho to meri majil se\n",
            " Dikhe ye meri rahe sahil se\n",
            " Tu he to ye khab ye safar \n",
            " Kahin dil ne thodi se beemanniya \n",
            " Di hai khubsoorat si pareshaniya\n",
            " Humko pyaar hua puri hua dua - 2\n",
            " \n",
            " Chal chal kahin udke hum chal kahin\n",
            " Aasma ishq hai khwaishon sa khula hai\n",
            " Mujhko chu gaya ek ehsaas anchhua\n",
            " Jaise koi nasha aasma mein ghoola hai\n",
            " Pyaar hua humko pyaar hua puri hua dua\n",
            " Humko pyaar hua puri hua dua - 2\n",
            " Baby i can si the sun rising in your eyes\n",
            " Baby everytime i think of you you make me smile\n",
            " Baby i' ll be your every dream and you should know\n",
            " Baby i' ll never ever wanna let you go\n",
            "</font>\n",
            "----------------------------------------------------------------------------------------- \n",
            "\n"
          ],
          "name": "stdout"
        }
      ]
    },
    {
      "cell_type": "code",
      "metadata": {
        "id": "qoFOmRnllHSD",
        "colab_type": "code",
        "colab": {
          "base_uri": "https://localhost:8080/",
          "height": 35
        },
        "outputId": "52bcb591-ba1b-497f-cbf5-00d5f26d55b2"
      },
      "source": [
        "\n",
        "#Combining all songs in one string.\n",
        "combined_text = ''\n",
        "for song in lyrics_data_pddf['Lyrics']:\n",
        "  combined_text = combined_text + song\n",
        "\n",
        "combined_text = combined_text.lower()\n",
        "combined_text = combined_text.replace('\\n', ' ')\n",
        "combined_text = combined_text.replace('--', '')\n",
        "combined_text = combined_text.replace('....', '')\n",
        "combined_text = combined_text.replace('-', '')\n",
        "combined_text = combined_text.replace(',', '')\n",
        "combined_text = combined_text.replace('.', '')\n",
        "combined_text = combined_text.replace('?', '')\n",
        "combined_text = combined_text.replace('(', '')\n",
        "combined_text = combined_text.replace(')', '')\n",
        "\n",
        "len(combined_text)\n"
      ],
      "execution_count": null,
      "outputs": [
        {
          "output_type": "execute_result",
          "data": {
            "text/plain": [
              "1655089"
            ]
          },
          "metadata": {
            "tags": []
          },
          "execution_count": 26
        }
      ]
    },
    {
      "cell_type": "code",
      "metadata": {
        "id": "82Jjuq7qpQLn",
        "colab_type": "code",
        "colab": {}
      },
      "source": [
        "\n",
        "#Unique words from the dataset.\n",
        "unique_alpha = sorted(list(set(combined_text)))\n",
        "uchar_index = dict((c, i) for i, c in enumerate(unique_alpha))\n",
        "index_uchar = dict((i, c) for i, c in enumerate(unique_alpha))\n",
        "\n"
      ],
      "execution_count": null,
      "outputs": []
    },
    {
      "cell_type": "code",
      "metadata": {
        "id": "c-oprnTfpQOM",
        "colab_type": "code",
        "colab": {
          "base_uri": "https://localhost:8080/",
          "height": 35
        },
        "outputId": "5f6de43b-a200-49df-d6bb-b7c7afe9f9a0"
      },
      "source": [
        "\n",
        "SEQUENCE_LENGTH = 40\n",
        "step = 3\n",
        "sentences = []\n",
        "next_chars = []\n",
        "for i in range(0, len(combined_text) - SEQUENCE_LENGTH, step):\n",
        "    sentences.append(combined_text[i: i + SEQUENCE_LENGTH])\n",
        "    next_chars.append(combined_text[i + SEQUENCE_LENGTH])\n",
        "print(f'num training examples: {len(sentences)}')\n"
      ],
      "execution_count": null,
      "outputs": [
        {
          "output_type": "stream",
          "text": [
            "num training examples: 551683\n"
          ],
          "name": "stdout"
        }
      ]
    },
    {
      "cell_type": "code",
      "metadata": {
        "id": "eRlV3B7IpQQS",
        "colab_type": "code",
        "colab": {}
      },
      "source": [
        "\n",
        "\n",
        "X = np.zeros((len(sentences), SEQUENCE_LENGTH, len(unique_alpha)), dtype = np.bool)\n",
        "y = np.zeros((len(sentences), len(unique_alpha)), dtype = np.bool)\n",
        "for i, sentence in enumerate(sentences):\n",
        "    for t, char in enumerate(sentence):\n",
        "        X[i, t, uchar_index[char]] = 1\n",
        "    y[i, uchar_index[next_chars[i]]] = 1\n",
        "\n"
      ],
      "execution_count": null,
      "outputs": []
    },
    {
      "cell_type": "code",
      "metadata": {
        "id": "1b16RT6SpQSz",
        "colab_type": "code",
        "colab": {
          "base_uri": "https://localhost:8080/",
          "height": 36
        },
        "outputId": "71e32cc4-c90e-4590-ef89-9b37d47dfa06"
      },
      "source": [
        "sentences[20]"
      ],
      "execution_count": null,
      "outputs": [
        {
          "output_type": "execute_result",
          "data": {
            "application/vnd.google.colaboratory.intrinsic+json": {
              "type": "string"
            },
            "text/plain": [
              "'laage kadvi judayi yaar mera sacha laage'"
            ]
          },
          "metadata": {
            "tags": []
          },
          "execution_count": 30
        }
      ]
    },
    {
      "cell_type": "code",
      "metadata": {
        "id": "vFqNs4rBpQUj",
        "colab_type": "code",
        "colab": {}
      },
      "source": [
        "\n",
        "model = Sequential()\n",
        "model.add(LSTM(128, input_shape=(SEQUENCE_LENGTH, len(unique_alpha))))\n",
        "model.add(Dense(len(unique_alpha)))\n",
        "model.add(Activation('softmax'))\n"
      ],
      "execution_count": null,
      "outputs": []
    },
    {
      "cell_type": "code",
      "metadata": {
        "id": "2Uf4nWdhpQY7",
        "colab_type": "code",
        "colab": {
          "base_uri": "https://localhost:8080/",
          "height": 568
        },
        "outputId": "4ee7bda3-8899-45a5-8655-0d4fee0c4e90"
      },
      "source": [
        "\n",
        "optimizer = RMSprop(lr=0.01)\n",
        "model.compile(loss='categorical_crossentropy', optimizer=optimizer, metrics = ['accuracy'])\n",
        "history = model.fit(X, y, validation_split = 0.05, batch_size = 128, epochs = 20, shuffle = True).history\n"
      ],
      "execution_count": null,
      "outputs": [
        {
          "output_type": "stream",
          "text": [
            "Epoch 1/20\n",
            "4095/4095 [==============================] - 590s 144ms/step - loss: 1.8296 - accuracy: 0.4422 - val_loss: 1.7868 - val_accuracy: 0.4497\n",
            "Epoch 2/20\n",
            "4095/4095 [==============================] - 603s 147ms/step - loss: 1.6343 - accuracy: 0.4983 - val_loss: 1.7551 - val_accuracy: 0.4661\n",
            "Epoch 3/20\n",
            "4095/4095 [==============================] - 574s 140ms/step - loss: 1.5828 - accuracy: 0.5141 - val_loss: 1.7434 - val_accuracy: 0.4678\n",
            "Epoch 4/20\n",
            "4095/4095 [==============================] - 581s 142ms/step - loss: 1.5600 - accuracy: 0.5204 - val_loss: 1.7505 - val_accuracy: 0.4713\n",
            "Epoch 5/20\n",
            "4095/4095 [==============================] - 573s 140ms/step - loss: 1.5390 - accuracy: 0.5270 - val_loss: 1.7564 - val_accuracy: 0.4641\n",
            "Epoch 6/20\n",
            "4095/4095 [==============================] - 580s 142ms/step - loss: 1.5256 - accuracy: 0.5305 - val_loss: 1.7522 - val_accuracy: 0.4734\n",
            "Epoch 7/20\n",
            "4095/4095 [==============================] - 577s 141ms/step - loss: 1.5147 - accuracy: 0.5339 - val_loss: 1.7379 - val_accuracy: 0.4788\n",
            "Epoch 8/20\n",
            "4095/4095 [==============================] - 571s 139ms/step - loss: 1.5051 - accuracy: 0.5363 - val_loss: 1.7362 - val_accuracy: 0.4748\n",
            "Epoch 9/20\n",
            "4095/4095 [==============================] - 569s 139ms/step - loss: 1.4991 - accuracy: 0.5387 - val_loss: 1.7551 - val_accuracy: 0.4749\n",
            "Epoch 10/20\n",
            "4095/4095 [==============================] - 553s 135ms/step - loss: 1.4958 - accuracy: 0.5392 - val_loss: 1.7372 - val_accuracy: 0.4778\n",
            "Epoch 11/20\n",
            "4095/4095 [==============================] - 540s 132ms/step - loss: 1.4950 - accuracy: 0.5402 - val_loss: 1.7636 - val_accuracy: 0.4731\n",
            "Epoch 12/20\n",
            "4095/4095 [==============================] - 558s 136ms/step - loss: 1.4920 - accuracy: 0.5410 - val_loss: 1.7859 - val_accuracy: 0.4686\n",
            "Epoch 13/20\n",
            "4095/4095 [==============================] - 573s 140ms/step - loss: 1.8233 - accuracy: 0.4706 - val_loss: 2.2247 - val_accuracy: 0.3830\n",
            "Epoch 14/20\n",
            "4095/4095 [==============================] - 561s 137ms/step - loss: 2.5715 - accuracy: 0.3339 - val_loss: 2.8431 - val_accuracy: 0.2897\n",
            "Epoch 15/20\n",
            " 607/4095 [===>..........................] - ETA: 7:48 - loss: 2.9055 - accuracy: 0.2874Buffered data was truncated after reaching the output size limit."
          ],
          "name": "stdout"
        }
      ]
    },
    {
      "cell_type": "code",
      "metadata": {
        "id": "0rl3qoW2pQgu",
        "colab_type": "code",
        "colab": {}
      },
      "source": [
        "history"
      ],
      "execution_count": null,
      "outputs": []
    },
    {
      "cell_type": "code",
      "metadata": {
        "id": "_QoZN0rPpQmx",
        "colab_type": "code",
        "colab": {}
      },
      "source": [
        ""
      ],
      "execution_count": null,
      "outputs": []
    },
    {
      "cell_type": "code",
      "metadata": {
        "id": "1MWf13wKpQpy",
        "colab_type": "code",
        "colab": {}
      },
      "source": [
        ""
      ],
      "execution_count": null,
      "outputs": []
    },
    {
      "cell_type": "code",
      "metadata": {
        "id": "5KNI3k53pQs9",
        "colab_type": "code",
        "colab": {}
      },
      "source": [
        ""
      ],
      "execution_count": null,
      "outputs": []
    },
    {
      "cell_type": "code",
      "metadata": {
        "id": "zlw5AQe7pQv4",
        "colab_type": "code",
        "colab": {}
      },
      "source": [
        ""
      ],
      "execution_count": null,
      "outputs": []
    },
    {
      "cell_type": "code",
      "metadata": {
        "id": "TY6fUhrKV0aJ",
        "colab_type": "code",
        "colab": {}
      },
      "source": [
        ""
      ],
      "execution_count": null,
      "outputs": []
    },
    {
      "cell_type": "code",
      "metadata": {
        "id": "Ga35yQxAV0ik",
        "colab_type": "code",
        "colab": {}
      },
      "source": [
        ""
      ],
      "execution_count": null,
      "outputs": []
    },
    {
      "cell_type": "code",
      "metadata": {
        "id": "IJERnmwcV0qX",
        "colab_type": "code",
        "colab": {}
      },
      "source": [
        ""
      ],
      "execution_count": null,
      "outputs": []
    },
    {
      "cell_type": "code",
      "metadata": {
        "id": "6r_qcixXV0xS",
        "colab_type": "code",
        "colab": {}
      },
      "source": [
        ""
      ],
      "execution_count": null,
      "outputs": []
    },
    {
      "cell_type": "code",
      "metadata": {
        "id": "uQ454ngOV0vI",
        "colab_type": "code",
        "colab": {}
      },
      "source": [
        ""
      ],
      "execution_count": null,
      "outputs": []
    },
    {
      "cell_type": "code",
      "metadata": {
        "id": "sBYyIIAmV0t1",
        "colab_type": "code",
        "colab": {}
      },
      "source": [
        ""
      ],
      "execution_count": null,
      "outputs": []
    },
    {
      "cell_type": "code",
      "metadata": {
        "id": "W9JbHzuOV0gg",
        "colab_type": "code",
        "colab": {}
      },
      "source": [
        ""
      ],
      "execution_count": null,
      "outputs": []
    }
  ]
}

